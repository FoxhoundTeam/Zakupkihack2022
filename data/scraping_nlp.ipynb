{
 "cells": [
  {
   "cell_type": "code",
   "execution_count": null,
   "id": "29d9538c-e242-4624-a4e1-37ea59577081",
   "metadata": {
    "collapsed": true,
    "jupyter": {
     "outputs_hidden": true
    },
    "tags": []
   },
   "outputs": [
    {
     "name": "stdout",
     "output_type": "stream",
     "text": [
      "Requirement already satisfied: pip in c:\\python39\\lib\\site-packages (22.1.2)\n",
      "Requirement already satisfied: setuptools in c:\\python39\\lib\\site-packages (62.3.3)\n",
      "Collecting setuptools\n",
      "  Downloading setuptools-62.3.4-py3-none-any.whl (1.2 MB)\n",
      "     ---------------------------------------- 1.2/1.2 MB 1.3 MB/s eta 0:00:00\n",
      "Requirement already satisfied: wheel in c:\\python39\\lib\\site-packages (0.37.1)\n",
      "Installing collected packages: setuptools\n",
      "  Attempting uninstall: setuptools\n",
      "    Found existing installation: setuptools 62.3.3\n",
      "    Uninstalling setuptools-62.3.3:\n",
      "      Successfully uninstalled setuptools-62.3.3\n",
      "Successfully installed setuptools-62.3.4\n",
      "Requirement already satisfied: spacy in c:\\python39\\lib\\site-packages (3.3.1)\n",
      "Requirement already satisfied: blis<0.8.0,>=0.4.0 in c:\\python39\\lib\\site-packages (from spacy) (0.7.7)\n",
      "Requirement already satisfied: requests<3.0.0,>=2.13.0 in c:\\python39\\lib\\site-packages (from spacy) (2.27.1)\n",
      "Requirement already satisfied: langcodes<4.0.0,>=3.2.0 in c:\\python39\\lib\\site-packages (from spacy) (3.3.0)\n",
      "Requirement already satisfied: wasabi<1.1.0,>=0.9.1 in c:\\python39\\lib\\site-packages (from spacy) (0.9.1)\n",
      "Requirement already satisfied: numpy>=1.15.0 in c:\\python39\\lib\\site-packages (from spacy) (1.22.4)\n",
      "Requirement already satisfied: srsly<3.0.0,>=2.4.3 in c:\\python39\\lib\\site-packages (from spacy) (2.4.3)\n",
      "Requirement already satisfied: packaging>=20.0 in c:\\python39\\lib\\site-packages (from spacy) (21.3)\n",
      "Requirement already satisfied: cymem<2.1.0,>=2.0.2 in c:\\python39\\lib\\site-packages (from spacy) (2.0.6)\n",
      "Requirement already satisfied: thinc<8.1.0,>=8.0.14 in c:\\python39\\lib\\site-packages (from spacy) (8.0.17)\n",
      "Requirement already satisfied: catalogue<2.1.0,>=2.0.6 in c:\\python39\\lib\\site-packages (from spacy) (2.0.7)\n",
      "Requirement already satisfied: spacy-legacy<3.1.0,>=3.0.9 in c:\\python39\\lib\\site-packages (from spacy) (3.0.9)\n",
      "Requirement already satisfied: pathy>=0.3.5 in c:\\python39\\lib\\site-packages (from spacy) (0.6.1)\n",
      "Requirement already satisfied: spacy-loggers<2.0.0,>=1.0.0 in c:\\python39\\lib\\site-packages (from spacy) (1.0.2)\n",
      "Requirement already satisfied: pydantic!=1.8,!=1.8.1,<1.9.0,>=1.7.4 in c:\\python39\\lib\\site-packages (from spacy) (1.8.2)\n",
      "Requirement already satisfied: setuptools in c:\\python39\\lib\\site-packages (from spacy) (62.3.4)\n",
      "Requirement already satisfied: murmurhash<1.1.0,>=0.28.0 in c:\\python39\\lib\\site-packages (from spacy) (1.0.7)\n",
      "Requirement already satisfied: typer<0.5.0,>=0.3.0 in c:\\python39\\lib\\site-packages (from spacy) (0.4.1)\n",
      "Requirement already satisfied: preshed<3.1.0,>=3.0.2 in c:\\python39\\lib\\site-packages (from spacy) (3.0.6)\n",
      "Requirement already satisfied: jinja2 in c:\\python39\\lib\\site-packages (from spacy) (3.1.1)\n",
      "Requirement already satisfied: tqdm<5.0.0,>=4.38.0 in c:\\python39\\lib\\site-packages (from spacy) (4.64.0)\n",
      "Requirement already satisfied: pyparsing!=3.0.5,>=2.0.2 in c:\\python39\\lib\\site-packages (from packaging>=20.0->spacy) (3.0.8)\n",
      "Requirement already satisfied: smart-open<6.0.0,>=5.0.0 in c:\\python39\\lib\\site-packages (from pathy>=0.3.5->spacy) (5.2.1)\n",
      "Requirement already satisfied: typing-extensions>=3.7.4.3 in c:\\python39\\lib\\site-packages (from pydantic!=1.8,!=1.8.1,<1.9.0,>=1.7.4->spacy) (4.1.1)\n",
      "Requirement already satisfied: urllib3<1.27,>=1.21.1 in c:\\python39\\lib\\site-packages (from requests<3.0.0,>=2.13.0->spacy) (1.26.9)\n",
      "Requirement already satisfied: idna<4,>=2.5 in c:\\python39\\lib\\site-packages (from requests<3.0.0,>=2.13.0->spacy) (3.3)\n",
      "Requirement already satisfied: charset-normalizer~=2.0.0 in c:\\python39\\lib\\site-packages (from requests<3.0.0,>=2.13.0->spacy) (2.0.12)\n",
      "Requirement already satisfied: certifi>=2017.4.17 in c:\\python39\\lib\\site-packages (from requests<3.0.0,>=2.13.0->spacy) (2021.10.8)\n",
      "Requirement already satisfied: colorama in c:\\python39\\lib\\site-packages (from tqdm<5.0.0,>=4.38.0->spacy) (0.4.4)\n",
      "Requirement already satisfied: click<9.0.0,>=7.1.1 in c:\\python39\\lib\\site-packages (from typer<0.5.0,>=0.3.0->spacy) (8.1.2)\n",
      "Requirement already satisfied: MarkupSafe>=2.0 in c:\\python39\\lib\\site-packages (from jinja2->spacy) (2.1.1)\n",
      "Collecting en-core-web-sm==3.3.0\n",
      "  Downloading https://github.com/explosion/spacy-models/releases/download/en_core_web_sm-3.3.0/en_core_web_sm-3.3.0-py3-none-any.whl (12.8 MB)\n",
      "     ---------------------------------------- 12.8/12.8 MB 5.5 MB/s eta 0:00:00\n",
      "Requirement already satisfied: spacy<3.4.0,>=3.3.0.dev0 in c:\\python39\\lib\\site-packages (from en-core-web-sm==3.3.0) (3.3.1)\n",
      "Requirement already satisfied: catalogue<2.1.0,>=2.0.6 in c:\\python39\\lib\\site-packages (from spacy<3.4.0,>=3.3.0.dev0->en-core-web-sm==3.3.0) (2.0.7)\n",
      "Requirement already satisfied: setuptools in c:\\python39\\lib\\site-packages (from spacy<3.4.0,>=3.3.0.dev0->en-core-web-sm==3.3.0) (62.3.4)\n",
      "Requirement already satisfied: pydantic!=1.8,!=1.8.1,<1.9.0,>=1.7.4 in c:\\python39\\lib\\site-packages (from spacy<3.4.0,>=3.3.0.dev0->en-core-web-sm==3.3.0) (1.8.2)\n",
      "Requirement already satisfied: jinja2 in c:\\python39\\lib\\site-packages (from spacy<3.4.0,>=3.3.0.dev0->en-core-web-sm==3.3.0) (3.1.1)\n",
      "Requirement already satisfied: spacy-legacy<3.1.0,>=3.0.9 in c:\\python39\\lib\\site-packages (from spacy<3.4.0,>=3.3.0.dev0->en-core-web-sm==3.3.0) (3.0.9)\n",
      "Requirement already satisfied: spacy-loggers<2.0.0,>=1.0.0 in c:\\python39\\lib\\site-packages (from spacy<3.4.0,>=3.3.0.dev0->en-core-web-sm==3.3.0) (1.0.2)\n",
      "Requirement already satisfied: tqdm<5.0.0,>=4.38.0 in c:\\python39\\lib\\site-packages (from spacy<3.4.0,>=3.3.0.dev0->en-core-web-sm==3.3.0) (4.64.0)\n",
      "Requirement already satisfied: pathy>=0.3.5 in c:\\python39\\lib\\site-packages (from spacy<3.4.0,>=3.3.0.dev0->en-core-web-sm==3.3.0) (0.6.1)\n",
      "Requirement already satisfied: typer<0.5.0,>=0.3.0 in c:\\python39\\lib\\site-packages (from spacy<3.4.0,>=3.3.0.dev0->en-core-web-sm==3.3.0) (0.4.1)\n",
      "Requirement already satisfied: packaging>=20.0 in c:\\python39\\lib\\site-packages (from spacy<3.4.0,>=3.3.0.dev0->en-core-web-sm==3.3.0) (21.3)\n",
      "Requirement already satisfied: wasabi<1.1.0,>=0.9.1 in c:\\python39\\lib\\site-packages (from spacy<3.4.0,>=3.3.0.dev0->en-core-web-sm==3.3.0) (0.9.1)\n",
      "Requirement already satisfied: numpy>=1.15.0 in c:\\python39\\lib\\site-packages (from spacy<3.4.0,>=3.3.0.dev0->en-core-web-sm==3.3.0) (1.22.4)\n",
      "Requirement already satisfied: cymem<2.1.0,>=2.0.2 in c:\\python39\\lib\\site-packages (from spacy<3.4.0,>=3.3.0.dev0->en-core-web-sm==3.3.0) (2.0.6)\n",
      "Requirement already satisfied: preshed<3.1.0,>=3.0.2 in c:\\python39\\lib\\site-packages (from spacy<3.4.0,>=3.3.0.dev0->en-core-web-sm==3.3.0) (3.0.6)\n",
      "Requirement already satisfied: murmurhash<1.1.0,>=0.28.0 in c:\\python39\\lib\\site-packages (from spacy<3.4.0,>=3.3.0.dev0->en-core-web-sm==3.3.0) (1.0.7)\n",
      "Requirement already satisfied: srsly<3.0.0,>=2.4.3 in c:\\python39\\lib\\site-packages (from spacy<3.4.0,>=3.3.0.dev0->en-core-web-sm==3.3.0) (2.4.3)\n",
      "Requirement already satisfied: langcodes<4.0.0,>=3.2.0 in c:\\python39\\lib\\site-packages (from spacy<3.4.0,>=3.3.0.dev0->en-core-web-sm==3.3.0) (3.3.0)\n",
      "Requirement already satisfied: requests<3.0.0,>=2.13.0 in c:\\python39\\lib\\site-packages (from spacy<3.4.0,>=3.3.0.dev0->en-core-web-sm==3.3.0) (2.27.1)\n",
      "Requirement already satisfied: thinc<8.1.0,>=8.0.14 in c:\\python39\\lib\\site-packages (from spacy<3.4.0,>=3.3.0.dev0->en-core-web-sm==3.3.0) (8.0.17)\n",
      "Requirement already satisfied: blis<0.8.0,>=0.4.0 in c:\\python39\\lib\\site-packages (from spacy<3.4.0,>=3.3.0.dev0->en-core-web-sm==3.3.0) (0.7.7)\n",
      "Requirement already satisfied: pyparsing!=3.0.5,>=2.0.2 in c:\\python39\\lib\\site-packages (from packaging>=20.0->spacy<3.4.0,>=3.3.0.dev0->en-core-web-sm==3.3.0) (3.0.8)\n",
      "Requirement already satisfied: smart-open<6.0.0,>=5.0.0 in c:\\python39\\lib\\site-packages (from pathy>=0.3.5->spacy<3.4.0,>=3.3.0.dev0->en-core-web-sm==3.3.0) (5.2.1)\n",
      "Requirement already satisfied: typing-extensions>=3.7.4.3 in c:\\python39\\lib\\site-packages (from pydantic!=1.8,!=1.8.1,<1.9.0,>=1.7.4->spacy<3.4.0,>=3.3.0.dev0->en-core-web-sm==3.3.0) (4.1.1)\n",
      "Requirement already satisfied: urllib3<1.27,>=1.21.1 in c:\\python39\\lib\\site-packages (from requests<3.0.0,>=2.13.0->spacy<3.4.0,>=3.3.0.dev0->en-core-web-sm==3.3.0) (1.26.9)\n",
      "Requirement already satisfied: charset-normalizer~=2.0.0 in c:\\python39\\lib\\site-packages (from requests<3.0.0,>=2.13.0->spacy<3.4.0,>=3.3.0.dev0->en-core-web-sm==3.3.0) (2.0.12)\n",
      "Requirement already satisfied: certifi>=2017.4.17 in c:\\python39\\lib\\site-packages (from requests<3.0.0,>=2.13.0->spacy<3.4.0,>=3.3.0.dev0->en-core-web-sm==3.3.0) (2021.10.8)\n",
      "Requirement already satisfied: idna<4,>=2.5 in c:\\python39\\lib\\site-packages (from requests<3.0.0,>=2.13.0->spacy<3.4.0,>=3.3.0.dev0->en-core-web-sm==3.3.0) (3.3)\n",
      "Requirement already satisfied: colorama in c:\\python39\\lib\\site-packages (from tqdm<5.0.0,>=4.38.0->spacy<3.4.0,>=3.3.0.dev0->en-core-web-sm==3.3.0) (0.4.4)\n",
      "Requirement already satisfied: click<9.0.0,>=7.1.1 in c:\\python39\\lib\\site-packages (from typer<0.5.0,>=0.3.0->spacy<3.4.0,>=3.3.0.dev0->en-core-web-sm==3.3.0) (8.1.2)\n",
      "Requirement already satisfied: MarkupSafe>=2.0 in c:\\python39\\lib\\site-packages (from jinja2->spacy<3.4.0,>=3.3.0.dev0->en-core-web-sm==3.3.0) (2.1.1)\n",
      "[+] Download and installation successful\n",
      "You can now load the package via spacy.load('en_core_web_sm')\n"
     ]
    },
    {
     "name": "stderr",
     "output_type": "stream",
     "text": [
      "2022-06-13 15:22:12.991524: W tensorflow/stream_executor/platform/default/dso_loader.cc:64] Could not load dynamic library 'cudart64_110.dll'; dlerror: cudart64_110.dll not found\n",
      "2022-06-13 15:22:12.991560: I tensorflow/stream_executor/cuda/cudart_stub.cc:29] Ignore above cudart dlerror if you do not have a GPU set up on your machine.\n"
     ]
    },
    {
     "name": "stdout",
     "output_type": "stream",
     "text": [
      "Collecting ru-core-news-sm==3.3.0\n",
      "  Downloading https://github.com/explosion/spacy-models/releases/download/ru_core_news_sm-3.3.0/ru_core_news_sm-3.3.0-py3-none-any.whl (15.3 MB)\n",
      "     ---------------------------------------- 15.3/15.3 MB 5.8 MB/s eta 0:00:00\n",
      "Requirement already satisfied: spacy<3.4.0,>=3.3.0.dev0 in c:\\python39\\lib\\site-packages (from ru-core-news-sm==3.3.0) (3.3.1)\n",
      "Requirement already satisfied: pymorphy2>=0.9 in c:\\python39\\lib\\site-packages (from ru-core-news-sm==3.3.0) (0.9.1)\n",
      "Requirement already satisfied: docopt>=0.6 in c:\\python39\\lib\\site-packages (from pymorphy2>=0.9->ru-core-news-sm==3.3.0) (0.6.2)\n",
      "Requirement already satisfied: dawg-python>=0.7.1 in c:\\python39\\lib\\site-packages (from pymorphy2>=0.9->ru-core-news-sm==3.3.0) (0.7.2)\n",
      "Requirement already satisfied: pymorphy2-dicts-ru<3.0,>=2.4 in c:\\python39\\lib\\site-packages (from pymorphy2>=0.9->ru-core-news-sm==3.3.0) (2.4.417127.4579844)\n",
      "Requirement already satisfied: spacy-legacy<3.1.0,>=3.0.9 in c:\\python39\\lib\\site-packages (from spacy<3.4.0,>=3.3.0.dev0->ru-core-news-sm==3.3.0) (3.0.9)\n",
      "Requirement already satisfied: thinc<8.1.0,>=8.0.14 in c:\\python39\\lib\\site-packages (from spacy<3.4.0,>=3.3.0.dev0->ru-core-news-sm==3.3.0) (8.0.17)\n",
      "Requirement already satisfied: tqdm<5.0.0,>=4.38.0 in c:\\python39\\lib\\site-packages (from spacy<3.4.0,>=3.3.0.dev0->ru-core-news-sm==3.3.0) (4.64.0)\n",
      "Requirement already satisfied: pathy>=0.3.5 in c:\\python39\\lib\\site-packages (from spacy<3.4.0,>=3.3.0.dev0->ru-core-news-sm==3.3.0) (0.6.1)\n",
      "Requirement already satisfied: catalogue<2.1.0,>=2.0.6 in c:\\python39\\lib\\site-packages (from spacy<3.4.0,>=3.3.0.dev0->ru-core-news-sm==3.3.0) (2.0.7)\n",
      "Requirement already satisfied: langcodes<4.0.0,>=3.2.0 in c:\\python39\\lib\\site-packages (from spacy<3.4.0,>=3.3.0.dev0->ru-core-news-sm==3.3.0) (3.3.0)\n",
      "Requirement already satisfied: numpy>=1.15.0 in c:\\python39\\lib\\site-packages (from spacy<3.4.0,>=3.3.0.dev0->ru-core-news-sm==3.3.0) (1.22.4)\n",
      "Requirement already satisfied: preshed<3.1.0,>=3.0.2 in c:\\python39\\lib\\site-packages (from spacy<3.4.0,>=3.3.0.dev0->ru-core-news-sm==3.3.0) (3.0.6)\n",
      "Requirement already satisfied: requests<3.0.0,>=2.13.0 in c:\\python39\\lib\\site-packages (from spacy<3.4.0,>=3.3.0.dev0->ru-core-news-sm==3.3.0) (2.27.1)\n",
      "Requirement already satisfied: wasabi<1.1.0,>=0.9.1 in c:\\python39\\lib\\site-packages (from spacy<3.4.0,>=3.3.0.dev0->ru-core-news-sm==3.3.0) (0.9.1)\n",
      "Requirement already satisfied: packaging>=20.0 in c:\\python39\\lib\\site-packages (from spacy<3.4.0,>=3.3.0.dev0->ru-core-news-sm==3.3.0) (21.3)\n",
      "Requirement already satisfied: spacy-loggers<2.0.0,>=1.0.0 in c:\\python39\\lib\\site-packages (from spacy<3.4.0,>=3.3.0.dev0->ru-core-news-sm==3.3.0) (1.0.2)\n",
      "Requirement already satisfied: pydantic!=1.8,!=1.8.1,<1.9.0,>=1.7.4 in c:\\python39\\lib\\site-packages (from spacy<3.4.0,>=3.3.0.dev0->ru-core-news-sm==3.3.0) (1.8.2)\n",
      "Requirement already satisfied: murmurhash<1.1.0,>=0.28.0 in c:\\python39\\lib\\site-packages (from spacy<3.4.0,>=3.3.0.dev0->ru-core-news-sm==3.3.0) (1.0.7)\n",
      "Requirement already satisfied: srsly<3.0.0,>=2.4.3 in c:\\python39\\lib\\site-packages (from spacy<3.4.0,>=3.3.0.dev0->ru-core-news-sm==3.3.0) (2.4.3)\n",
      "Requirement already satisfied: setuptools in c:\\python39\\lib\\site-packages (from spacy<3.4.0,>=3.3.0.dev0->ru-core-news-sm==3.3.0) (62.3.4)\n",
      "Requirement already satisfied: typer<0.5.0,>=0.3.0 in c:\\python39\\lib\\site-packages (from spacy<3.4.0,>=3.3.0.dev0->ru-core-news-sm==3.3.0) (0.4.1)\n",
      "Requirement already satisfied: cymem<2.1.0,>=2.0.2 in c:\\python39\\lib\\site-packages (from spacy<3.4.0,>=3.3.0.dev0->ru-core-news-sm==3.3.0) (2.0.6)\n",
      "Requirement already satisfied: blis<0.8.0,>=0.4.0 in c:\\python39\\lib\\site-packages (from spacy<3.4.0,>=3.3.0.dev0->ru-core-news-sm==3.3.0) (0.7.7)\n",
      "Requirement already satisfied: jinja2 in c:\\python39\\lib\\site-packages (from spacy<3.4.0,>=3.3.0.dev0->ru-core-news-sm==3.3.0) (3.1.1)\n",
      "Requirement already satisfied: pyparsing!=3.0.5,>=2.0.2 in c:\\python39\\lib\\site-packages (from packaging>=20.0->spacy<3.4.0,>=3.3.0.dev0->ru-core-news-sm==3.3.0) (3.0.8)\n",
      "Requirement already satisfied: smart-open<6.0.0,>=5.0.0 in c:\\python39\\lib\\site-packages (from pathy>=0.3.5->spacy<3.4.0,>=3.3.0.dev0->ru-core-news-sm==3.3.0) (5.2.1)\n",
      "Requirement already satisfied: typing-extensions>=3.7.4.3 in c:\\python39\\lib\\site-packages (from pydantic!=1.8,!=1.8.1,<1.9.0,>=1.7.4->spacy<3.4.0,>=3.3.0.dev0->ru-core-news-sm==3.3.0) (4.1.1)\n",
      "Requirement already satisfied: idna<4,>=2.5 in c:\\python39\\lib\\site-packages (from requests<3.0.0,>=2.13.0->spacy<3.4.0,>=3.3.0.dev0->ru-core-news-sm==3.3.0) (3.3)\n",
      "Requirement already satisfied: certifi>=2017.4.17 in c:\\python39\\lib\\site-packages (from requests<3.0.0,>=2.13.0->spacy<3.4.0,>=3.3.0.dev0->ru-core-news-sm==3.3.0) (2021.10.8)\n",
      "Requirement already satisfied: charset-normalizer~=2.0.0 in c:\\python39\\lib\\site-packages (from requests<3.0.0,>=2.13.0->spacy<3.4.0,>=3.3.0.dev0->ru-core-news-sm==3.3.0) (2.0.12)\n",
      "Requirement already satisfied: urllib3<1.27,>=1.21.1 in c:\\python39\\lib\\site-packages (from requests<3.0.0,>=2.13.0->spacy<3.4.0,>=3.3.0.dev0->ru-core-news-sm==3.3.0) (1.26.9)\n",
      "Requirement already satisfied: colorama in c:\\python39\\lib\\site-packages (from tqdm<5.0.0,>=4.38.0->spacy<3.4.0,>=3.3.0.dev0->ru-core-news-sm==3.3.0) (0.4.4)\n",
      "Requirement already satisfied: click<9.0.0,>=7.1.1 in c:\\python39\\lib\\site-packages (from typer<0.5.0,>=0.3.0->spacy<3.4.0,>=3.3.0.dev0->ru-core-news-sm==3.3.0) (8.1.2)\n",
      "Requirement already satisfied: MarkupSafe>=2.0 in c:\\python39\\lib\\site-packages (from jinja2->spacy<3.4.0,>=3.3.0.dev0->ru-core-news-sm==3.3.0) (2.1.1)\n",
      "[+] Download and installation successful\n",
      "You can now load the package via spacy.load('ru_core_news_sm')\n"
     ]
    },
    {
     "name": "stderr",
     "output_type": "stream",
     "text": [
      "2022-06-13 15:22:21.311270: W tensorflow/stream_executor/platform/default/dso_loader.cc:64] Could not load dynamic library 'cudart64_110.dll'; dlerror: cudart64_110.dll not found\n",
      "2022-06-13 15:22:21.311300: I tensorflow/stream_executor/cuda/cudart_stub.cc:29] Ignore above cudart dlerror if you do not have a GPU set up on your machine.\n"
     ]
    }
   ],
   "source": [
    "!pip install -U pip setuptools wheel\n",
    "!pip install -U spacy\n",
    "!python -m spacy download en_core_web_sm\n",
    "!python -m spacy download ru_core_news_sm\n",
    "!python -m spacy download en_core_web_trf\n",
    "!python -m spacy download ru_core_news_lg\n",
    "\n",
    "!pip install beautifulsoup4\n",
    "!pip install google\n",
    "!pip install html2text\n",
    "\n",
    "!pip install fuzzywuzzy\n",
    "!pip install python-Levenshtein"
   ]
  },
  {
   "cell_type": "markdown",
   "id": "d717470d-f6a6-4f51-80ec-b70c19559353",
   "metadata": {
    "tags": []
   },
   "source": [
    "# [+] Сделать запрос к поисковику, найти штук 10-20 ссылок\n",
    "\n",
    "Собрать несколько текстов\n",
    "\n",
    "https://www.geeksforgeeks.org/performing-google-search-using-python-code/"
   ]
  },
  {
   "cell_type": "code",
   "execution_count": 1,
   "id": "e174bd35-e2e3-4f71-84ec-86a3e481ebe1",
   "metadata": {},
   "outputs": [],
   "source": [
    "search_string = \"Эльбрус-8С\"\n",
    "# search_string = \"Байкал М\"\n",
    "# search_string = \"Байкал М\""
   ]
  },
  {
   "cell_type": "code",
   "execution_count": 2,
   "id": "ec770367-94a8-4c87-b865-e0517901378d",
   "metadata": {},
   "outputs": [
    {
     "name": "stdout",
     "output_type": "stream",
     "text": [
      "['https://ru.wikipedia.org/wiki/%D0%AD%D0%BB%D1%8C%D0%B1%D1%80%D1%83%D1%81-8%D0%A1', 'https://ru.wikipedia.org/wiki/%D0%AD%D0%BB%D1%8C%D0%B1%D1%80%D1%83%D1%81_(%D0%BF%D1%80%D0%BE%D1%86%D0%B5%D1%81%D1%81%D0%BE%D1%80%D0%BD%D0%B0%D1%8F_%D0%B0%D1%80%D1%85%D0%B8%D1%82%D0%B5%D0%BA%D1%82%D1%83%D1%80%D0%B0)', 'https://ru.wikipedia.org/wiki/%D0%AD%D0%BB%D1%8C%D0%B1%D1%80%D1%83%D1%81-2%D0%A13', 'https://ru.wikipedia.org/wiki/%D0%AD%D0%BB%D1%8C%D0%B1%D1%80%D1%83%D1%81-4%D0%A1', 'https://ru.wikipedia.org/wiki/%D0%9C%D0%A6%D0%A1%D0%A2', 'http://www.mcst.ru/elbrus-8c', 'https://en.wikipedia.org/wiki/Elbrus-8S', 'http://www.mcst.ru/elbrus-8c0', 'http://www.mcst.ru/elbrus-8sv', 'https://habr.com/ru/post/647277/', 'https://www.ixbt.com/news/2021/05/30/s-t-a-l-k-e-r-8.html', 'https://www.tadviser.ru/index.php/%D0%9F%D1%80%D0%BE%D0%B4%D1%83%D0%BA%D1%82:%D0%AD%D0%BB%D1%8C%D0%B1%D1%80%D1%83%D1%81-8%D0%A1', 'https://3dnews.ru/1009369', 'https://servernews.ru/1057485', 'https://www.kommersant.ru/doc/5192750', 'https://lenta.ru/news/2022/01/31/elbrus/', 'https://www.cnews.ru/book/%D0%9C%D0%A6%D0%A1%D0%A2_-_%D0%AD%D0%BB%D1%8C%D0%B1%D1%80%D1%83%D1%81_8C-%D1%8F%D0%B4%D0%B5%D1%80%D0%BD%D1%8B%D0%B5_%D0%BC%D0%B8%D0%BA%D1%80%D0%BE%D0%BF%D1%80%D0%BE%D1%86%D0%B5%D1%81%D1%81%D0%BE%D1%80%D1%8B', 'https://icl-techno.ru/catalog/desktop/monoblok-saferay-basicray-b132-mi-na-baze-protsessora-elbrus-8s1/', 'https://optitelcom.ru/index.php?route=product/product&product_id=1143', 'https://spbit.ru/news/n206172/']\n"
     ]
    }
   ],
   "source": [
    "def search_google(search_string : str) -> (list, str):\n",
    "    try:\n",
    "        import googlesearch\n",
    "        from googlesearch import search\n",
    "    except ImportError:\n",
    "        print(\"No module named 'google' found\")\n",
    "        return ([], \"Не установлен python-модуль google\")\n",
    "    result = []\n",
    "    try:\n",
    "        result = googlesearch.search(search_string, tld=\"co.in\", num=20, stop=20, pause=2)\n",
    "    except:\n",
    "        return ([], \"Поиск в Google не удался, возможно, превышен лимит, попробуйте сменить IP или повторить позже\")\n",
    "    return (list(result), None)\n",
    "\n",
    "search_result, err_message = search_google(search_string)\n",
    "# for j in search_result:\n",
    "#     print(j)\n",
    "print(search_result)"
   ]
  },
  {
   "cell_type": "markdown",
   "id": "4e74d0e8-e804-43d7-aed1-373803785506",
   "metadata": {},
   "source": [
    "# [+] Получить страницы по ссылкам и выделить контексты"
   ]
  },
  {
   "cell_type": "code",
   "execution_count": 3,
   "id": "e0b1b0c0-59bd-42d3-80b8-159faebcffe0",
   "metadata": {
    "tags": []
   },
   "outputs": [
    {
     "data": {
      "application/vnd.jupyter.widget-view+json": {
       "model_id": "e557fbc75e7349f5b8cb2d82094239eb",
       "version_major": 2,
       "version_minor": 0
      },
      "text/plain": [
       "  0%|          | 0/20 [00:00<?, ?it/s, Страниц просканировано]"
      ]
     },
     "metadata": {},
     "output_type": "display_data"
    },
    {
     "name": "stdout",
     "output_type": "stream",
     "text": [
      "Для URL  https://www.tadviser.ru/index.php/%D0%9F%D1%80%D0%BE%D0%B4%D1%83%D0%BA%D1%82:%D0%AD%D0%BB%D1%8C%D0%B1%D1%80%D1%83%D1%81-8%D0%A1  не удалось получить страницу\n",
      "['Эльбрус-8С\\n\\nМатериал из Википедии — свободной энциклопедии', 'к навигации Перейти к поиску\\n\\nЭльбрус-8С  \\n---  \\n _Центральный процессор_  \\n![Elbrus-8S.svg', 'Ядра |  \\n  \\nЭльбрус-4С\\n\\nЭльбрус-2С3  \\n  \\n**Эльбрус-8С** и **Эльбрус-8СВ** — 8-ядерные', 'МЦСТ[1].\\n\\nПервые опытные образцы Эльбрус-8С (1891ВМ10Я) были выпущены в 2014', 'разработка его сильно модернизированной версии —\\nЭльбрус-8С', '4.1 Технические характеристики\\n  * 5 Эльбрус-8С', 'частности,\\nпроизводительность серверов на базе „Эльбрус-8С“ позволит в ближайшей\\nперспективе приступить', 'Архитектура, схемотехника и топология микропроцессора «Эльбрус-8С» разработаны\\nспециалистами Института электронных управляющих', '2014 идёт разработка новой модификации Эльбрус-8С под названием\\n**Эльбрус-8С2** , в', 'и серверы) на базе процессора «Эльбрус-8С»[20].\\nНачало серийного производства планируется', 'которого\\nлежит четыре восьмиядерных процессора «Эльбрус-8С»[22].\\n\\n20 декабря 2018 года', 'приёмки выполненных работ по процессору\\n**«Эльбрус-8С', 'рабочих станций, производимых на базе\\nЭльбрус-8С, называются: государственные учреждения и бизнес', '100 Вт[27](с. 4)  \\nЭльбрус-8С', 'кэш |  16 МБ  \\nРазъём |  \\nЯдра |  \\n  \\nЭльбрус-8С\\n\\nЭльбрус-12С  \\n  \\n## Эльбрус-8СВ[править', 'править код]\\n\\n**Эльбрус-8С', 'названия – «микросхема 1891ВМ12Я» или «процессор\\n“Эльбрус-8С', 'плавающей запятой, по сравнению с Эльбрус-8С, и оптимизированный кэш первого\\nуровня', 'четырёхпроцессорных), использовавших восьмиядерные\\nмикропроцессоры типа «Эльбрус-8С». В декабре 2021 года были', 'стало известно, что\\nотбракованные процессоры Эльбрус-8С', 'работавшие на российских процессорах типа «Эльбрус-8С», не поддерживали\\nзагрузку операционной системы', 'серверной системы на базе микропроцессоров\\nЭльбрус-8С: компания, получив субсидию в размере', '2014\\n  2. ↑ Серийное производство процессора \"Эльбрус-8С\" начнется в 2016 г. Архивировано', '3. ↑ Российский 28-нм процессор «Эльбрус-8С» пойдет в серию в 2016', 'мая 2018.\\n  4. ↑ Центральный процессор «Эльбрус-8С', '2019 года.\\n  5. ↑ Центральный процессор «Эльбрус-8С', '9. ↑ 8-ядерные российские процессоры «Эльбрус-8С» увидят свет в 2016 году', '_ Новый 8-ядерный микропроцессор Эльбрус-8С ** (неопр.)**. Официальный сайт МЦСТ «Эльбрус', 'производство запущена опытная партия процессоров Эльбрус-8С ** (неопр.)**. habrahabr.ru (25 июня', '15. ↑ Началось производство российских процессоров «Эльбрус-8С» с восемью ядрами ** (неопр.)**. 3dnews', 'Опытная партия 8-ядерных процессоров Эльбрус-8С запущена в производство ** (неопр.)**. ferra', 'Первая партия инженерных образцов процессора Эльбрус-8С и южного моста КПИ-2', 'пропускной способности подсистемы памяти СнК Эльбрус-8С', 'На базе новых российских процессоров «Эльбрус-8С» строят защищённые от кибершпионажа ПК', '2019 года.\\n  24. ↑ Центральный процессор «Эльбрус-8С» (ТВГИ.431281.016) ** (неопр.)**. Дата', '22 июля 2015.\\n  29. ↑ Микропроцессор «Эльбрус-8С', '2019 года.\\n  31. ↑ Центральный процессор «Эльбрус-8С', 'на Wayback Machine\\n  * Центральный процессор «Эльбрус-8С', 'миф или реальность? — Разгон процессора «Эльбрус-8С» до 1600 МГц на YouTube', '1С+\\n    * Эльбрус-2С+\\n    * Эльбрус-4С\\n    * Эльбрус-8С/8СВ\\n    * Эльбрус-2С3\\n    * Эльбрус-12С', 'org/w/index.php?title=Эльбрус-8С&oldid=122940763\\n\\nКатегории:\\n\\n  * Микропроцессоры МЦСТ', 'в\\n2016 году технология выпуска Эльбрус-8С — это 28 нм. Ввиду ограниченности', '2С+** | **Эльбрус-4С** | **Эльбрус-1С+** | **Эльбрус-8С**[5] |\\n**Эльбрус-8СВ**[6] | **Эльбрус', '13 мая 2014.\\n  5. ↑ Микропроцессор «Эльбрус-8С» (ТВГИ.431281.016) ** (неопр.)**. _www', '2018 года.\\n  6. ↑ Центральный процессор «Эльбрус-8С', 'ПО для российской аппаратной платформы «Эльбрус-8С» ** (неопр.)**. Дата обращения: 3 марта', '2018 года.\\n  13. ↑ Центральный процессор «Эльбрус-8С» (ТВГИ.431281.025) ** (неопр.)**. Дата', '14. ↑ _МЦСТ._ Центральный процессор «Эльбрус-8С» (ТВГИ.431281.016) (рус.) ** (неопр', '2018 года.\\n  15. ↑ Центральный процессор «Эльбрус-8С', '16. ↑ _МЦСТ._ Центральный процессор «Эльбрус-8С', '1С+\\n    * Эльбрус-2С+\\n    * Эльбрус-4С\\n    * Эльбрус-8С/8СВ\\n    * Эльбрус-2С3\\n    * Эльбрус-12С', 'кэш |  4 МБ  \\nРазъём |  \\nЯдра |  \\n  \\nЭльбрус-8С\\n\\nЭльбрус-12С  \\n  \\n**Эльбрус-2С3** (К1891КМ068', '1С+\\n    * Эльбрус-2С+\\n    * Эльбрус-4С\\n    * Эльбрус-8С/8СВ\\n    * Эльбрус-2С3\\n    * Эльбрус-12С', 'HFCBGA / 1600\\n\\n  \\n  \\nЯдра |  \\n  \\nЭльбрус-2С+\\n\\nЭльбрус-8С  \\n  \\n**Эльбрус-4С** — российский 64-разрядный', '1С+\\n    * Эльбрус-2С+\\n    * Эльбрус-4С\\n    * Эльбрус-8С/8СВ\\n    * Эльбрус-2С3\\n    * Эльбрус-12С', '9][10].\\n  * Эльбрус-2СМ ( **1891ВМ9Я** )\\n  * Эльбрус-8С ( **1891ВМ10Я,** техпроцесс 28 нм, 8', 'станций.[11]\\n  * Эльбрус-1С+ ( **1891ВМ11Я** ).\\n  * Эльбрус-8С', 'Микропроцессоры и СБИС » Центральный процессор\\n«Эльбрус-8С» (ТВГИ.431281.025)\\n\\n# Центральный процессор', 'Эльбрус-8С» (ТВГИ.431281.025)\\n\\n![](http://www', 'и передачи информации.\\n\\nИнформация\\n\\nМикропроцессор  **Эльбрус-8С**  (1891ВМ028) — высокопроизводительный процессор\\nобщего назначения', 'нм,\\nпозволяющим снизить энергопотребление.\\n\\nОсобенности «Эльбрус-8С»:\\n\\n  * Оригинальная архитектура Эльбрус, обеспечивающая высокую', 'передачи информации.\\n\\n**Варианты наименования**  \\n---  \\nКириллица | Эльбрус-8С  \\nЛатиница | Elbrus-8C  \\nДокументация | Микросхема', 'выпуски данной микросхемы обозначались как «Эльбрус-8С', '8S\\n\\nThe **Elbrus-8S** (Russian: Эльбрус-8С) is a Russian 28 nanometer', 'заявили о создании российского процессора \"Эльбрус-8С', 'Микропроцессоры и СБИС » Центральный процессор\\n«Эльбрус-8С» (ТВГИ.431281.016)\\n\\n# Центральный процессор', 'Эльбрус-8С» (ТВГИ.431281.016)\\n\\n![](http://www', 'и передачи информации.\\n\\nИнформация\\n\\nМикропроцессор  **Эльбрус-8С**  (1891ВМ10Я) — высокопроизводительный процессор\\nобщего назначения', 'нм,\\nпозволяющим снизить энергопотребление.\\n\\nОсобенности «Эльбрус-8С»:\\n\\n  * Оригинальная архитектура Эльбрус, обеспечивающая высокую', 'Крышка  \\n---|---|---|---|---  \\nТВГИ.431281.016 | 1891ВМ10Я «Эльбрус-8С» | архив | керамика | AlSiC-10  \\n**Варианты', 'наименования**  \\n---  \\nКириллица | Эльбрус-8С  \\nЛатиница | Elbrus-8C  \\nДокументация | Микросхема', 'Микропроцессоры и СБИС » Центральный процессор\\n«Эльбрус-8С', 'ТВГИ.431281.023)\\n\\n# Центральный процессор «Эльбрус-8С', 'и передачи информации.\\n\\nИнформация\\n\\nМикропроцессор « **Эльбрус-8С', 'нм, реализует технологии\\nэнергосбережения.\\n\\nОсобенности «Эльбрус-8С', 'передачи информации.\\n\\n**Варианты наименования**  \\n---  \\nКириллица | Эльбрус-8С', 'для поколения серверов на базе «Эльбрус-8С', 'системе с общей памятью. В «Эльбрус-8С» пропускная\\nспособность точки сериализации была', 'компьютерное железо\\n  * микропроцессоры\\n  * процессоры\\n  * мцст\\n  * эльбрус-8с\\n  * производство микросхем\\n\\nХабы:\\n\\n  * Реверс-инжиниринг', 'рынок IT. Новости экспресс-тесты Эльбрус-8С протестировали\\nв Blender: чуд...  __', 'как GeForce RTX 3080\\n\\n__\\n\\n# Эльбрус-8С протестировали в Blender: чуда не', 'Андрей Созинов\\n\\nРазработка отечественного процессора Эльбрус-8С была завершена в 2016 году', 'jpg)\\n\\nСразу же напомним, что Эльбрус-8С представляет собой процессор с восемью', 'рядом факторов. Во-первых, чипы Эльбрус-8С используются главным образом в ПК', 'из 150 сэмплов. Результат теста\\nЭльбрус-8С составил 2 минуты 52 секунды', 'четырёхпроцессорные серверы с российскими CPU «Эльбрус-8С', 'на смену\\nпришла усовершенствованная версия Эльбрус-8С', 'лишён целого ряда недостатков, присущих Эльбрус-8С.\\n\\n![\\n](https://3dnews.ru/assets/external', 'создано первое облако на базе\\nЭльбрус-8С/СВ.\\n\\n![  ](https://3dnews.ru/assets', 'серверов SIT SRE 2408 с «Эльбрус-8С', 'тестовую партию серверов на\\nпроцессоре «Эльбрус-8С', 'и СХД\\nна базе процессоров «Эльбрус-8С', 'с процессорами\\n«Эльбрус-1С+» и «Эльбрус-8С»  \\n22.10.2020 |  __ |  **Создан', 'промышленный ПК на базе процессора «Эльбрус-8С»**  \\n22.10.2020 |  __ |  «Ростех', 'новый промышленный компьютер на базе\\n«Эльбрус-8С»  \\n08.10.2020 |  __ |  **Создан', 'партнеры показали сервер на базе «Эльбрус-8С» с\\nжидкостным охлаждением  \\n24.09', 'ПО для российской\\nаппаратной платформы «Эльбрус-8С»  \\n25.05.2017 |  __ |  **Выпущены', 'На базе новых российских процессоров «Эльбрус-8С» строят\\nзащищенные от кибершпионажа ПК', '__ |  **Российский 28-нм процессор «Эльбрус-8С» пойдет в серию в\\n2016', 'Моноблок BasicRAY на базе процессора\\nЭльбрус-8С](/upload/resize_cache/iblock/8b1/690_438_2', 'Моноблок BasicRAY на базе процессора Эльбрус-8С\\n\\nДиагональ экрана: | 23.8″ (1920х1080', 'Процессор: | Эльбрус-8С  \\nБлок питания: | 150 Вт  \\n  \\nХарактеристики', 'Фотографии  Сертификаты и документация\\n\\n  * Процессор \\n\\n|\\n\\nЭльбрус-8С', 'базе SafeRAY S301 c процессором Эльбрус-8С\\n\\nАРМ ICL на базе SafeRAY', 'S301 c процессором Эльбрус-8С\\n\\n  * ![АРМ ICL на базе SafeRAY', 'S301 c процессором Эльбрус-8С](https://optitelcom.ru/image/cache', 'базе SafeRAY S301 c процессором Эльбрус-8С\\n\\n__ На складе\\n\\nРейтинг: __________', 'Эльбрус-8С**\\n\\n* * *\\n\\n__ Качество\\n\\n__ Доставка\\n\\n__', 'Документы и файлы\\n  * Гарантия\\n\\nПроцессор\\n\\n|\\n\\nЭльбрус-8С (8 ядер, до 1200 МГц', 'опытные образцы 8-ядерных процессоров «Эльбрус-8С» на собственной\\nархитектуре «Эльбрус» для', 'появилась сильно модернизированная версия - процессоры «Эльбрус-8С', 'в 2020 году).\\n\\nНовый процессор «Эльбрус-8С', 'мощней на\\nфоне тех процессоров «Эльбрус-8С», которыми собираются оснастить сейчас\\nинфраструктуру']\n"
     ]
    }
   ],
   "source": [
    "import re\n",
    "import requests\n",
    "# import bs4\n",
    "# from bs4 import BeautifulSoup\n",
    "# import webbrowser\n",
    "import html2text\n",
    "from tqdm.notebook import tqdm\n",
    "\n",
    "def get_static_page_text(url : str) -> str:\n",
    "    \"\"\"\n",
    "    Запрос к URL и выделение текста через requests.get().text\n",
    "    \"\"\"\n",
    "    request_result=requests.get( url, timeout = 2.0)\n",
    "    if request_result.status_code == 200:\n",
    "        return str(request_result.text)\n",
    "    else:\n",
    "        return None\n",
    "\n",
    "def clean_text(source_text : str):\n",
    "    \"\"\"\n",
    "    Удаление переносов, табуляции, URL и прочих символов, мешающих\n",
    "    распознаванию текста\n",
    "    \"\"\"\n",
    "    cleaned_text = source_text.replace('\\t', ' ')\n",
    "    cleaned_text = cleaned_text.replace('\\r', ' ')\n",
    "    cleaned_text = cleaned_text.replace('\\n', ' ')\n",
    "    return cleaned_text\n",
    "\n",
    "def get_static_page_text2(url : str) -> str:\n",
    "    \"\"\"\n",
    "    Запрос к URL и выделение текста через html2text\n",
    "    \"\"\"\n",
    "    request_result=requests.get( url )\n",
    "    # raw=html2text.HTML2Text().handle(request_result.text)\n",
    "    # raw=html2text.html2text(request_result.text)\n",
    "    \n",
    "    to_text = html2text.HTML2Text()\n",
    "    to_text.ignore_links = True\n",
    "    extracted_text = to_text.handle(request_result.text)\n",
    "    \n",
    "    # raw=html2text.html2text(request_result.content)\n",
    "    # utf8_text=raw.encode('utf-8') # если нужен вывод в bytes\n",
    "    return extracted_text # utf8_text если нужен вывод в bytes\n",
    "\n",
    "def get_static_page_text3(url : str) -> str:\n",
    "    \"\"\"\n",
    "    Запрос к URL и выделение текста через BeautifulSoup\n",
    "    \"\"\"\n",
    "    pass\n",
    "\n",
    "def get_word_contexts(\n",
    "    source_text : str,\n",
    "    target_text : str, # строка, для которой нужно выделить контекст\n",
    "    words_before : int, # число слов перед найденным target_text, которые включаются в контекст\n",
    "    words_after : int # число слов после найденного target_text, которые включаются в контекст\n",
    ") -> list:\n",
    "    \"\"\"\n",
    "    Выделение из текста source_text набора фрагментов текста (т.е. конеткстов в формате list(str)),\n",
    "    включающих слово target_text, а также words_before слов перед словом target_text\n",
    "    и words_after слов после слова target_text\n",
    "    \"\"\"\n",
    "    # знаки препинания [\\W&&\\S]\n",
    "    # слова с кириллицей [\\wа-яА-Я]\n",
    "    # regex_to_find_context = rf\"(?:[\\w]+\\W+)\\{{0,{words_before}}}{target_text}(?:\\W+[\\w]+)\\{{0,{words_after}}}\"\n",
    "    regex_to_find_context = rf\"(?:[\\wа-яА-Я]+[^\\wа-яА-Я]+){{0,{words_before}}}{target_text}(?:[^\\wа-яА-Я]+[\\wа-яА-Я]+){{0,{words_after}}}\"\n",
    "    # list_of_contexts = []\n",
    "    # source_lower = source_text.lower()\n",
    "    # target_lower = target_text.lower()\n",
    "    # source_lower.find(target_lower)\n",
    "    list_of_contexts = re.findall(regex_to_find_context, source_text, re.IGNORECASE)\n",
    "    return list_of_contexts\n",
    "\n",
    "# print(requests.get( search_result[0] ).text)\n",
    "\n",
    "# text = \"\"\n",
    "word_contexts = []\n",
    "for url in tqdm(search_result, postfix=\"Страниц просканировано\"):\n",
    "    try:\n",
    "        page_text=get_static_page_text2(url)\n",
    "        tmp_word_contexts = get_word_contexts(source_text= page_text,\n",
    "                                        target_text = search_string,\n",
    "                                        words_before = 5,\n",
    "                                        words_after = 5\n",
    "                                       )\n",
    "        word_contexts.extend(tmp_word_contexts)\n",
    "        # soup = BeautifulSoup(html, features=\"html.parser\")\n",
    "        # text = text = ' '.join(soup.stripped_strings)\n",
    "        # print(\"Исходный текст:\\n\\n\", page_text,\"\\n\\n\")\n",
    "        # print(\"Найденные совпадения:\\n\\n\", word_contexts,\"\\n\\n\")\n",
    "        # print(\"Число совпадений:\\n\\n\", len(word_contexts),\"\\n\\n\")\n",
    "    except:\n",
    "        print(\"Для URL \", url, \" не удалось получить страницу\")\n",
    "print(word_contexts)"
   ]
  },
  {
   "cell_type": "markdown",
   "id": "669b8502-8b88-4da2-9c02-d6d1cd083ab3",
   "metadata": {},
   "source": [
    "# [+] Провести классификацию (найти категорию товара из списка категорий)\n",
    "\n",
    "https://towardsdatascience.com/how-to-build-a-fast-most-similar-words-method-in-spacy-32ed104fe498\n",
    "\n",
    "https://towardsdatascience.com/clustering-product-names-with-python-part-1-f9418f8705c8\n",
    "\n"
   ]
  },
  {
   "cell_type": "code",
   "execution_count": 10,
   "id": "4fda29b5-36fd-4975-9d4e-76874ce28a64",
   "metadata": {},
   "outputs": [],
   "source": [
    "import pandas as pd\n",
    "\n",
    "# список категорий\n",
    "df = pd.read_csv(\"База_продукты_Кирилл2.csv\")\n",
    "# table_names = [\"Inventory\", \"HP BladeSystem Rack\", \"Network Interface\"]\n",
    "# groups = df[0].isin(table_names).cumsum()\n",
    "# tables = {g.iloc[0,0]: g.iloc[1:] for k,g in df.groupby(groups)}"
   ]
  },
  {
   "cell_type": "code",
   "execution_count": 11,
   "id": "12ef1649-d463-421a-bc25-88758dc68e23",
   "metadata": {},
   "outputs": [
    {
     "data": {
      "text/html": [
       "<div>\n",
       "<style scoped>\n",
       "    .dataframe tbody tr th:only-of-type {\n",
       "        vertical-align: middle;\n",
       "    }\n",
       "\n",
       "    .dataframe tbody tr th {\n",
       "        vertical-align: top;\n",
       "    }\n",
       "\n",
       "    .dataframe thead th {\n",
       "        text-align: right;\n",
       "    }\n",
       "</style>\n",
       "<table border=\"1\" class=\"dataframe\">\n",
       "  <thead>\n",
       "    <tr style=\"text-align: right;\">\n",
       "      <th></th>\n",
       "      <th>Unnamed: 0</th>\n",
       "      <th>name</th>\n",
       "      <th>category</th>\n",
       "      <th>subcategory</th>\n",
       "      <th>description</th>\n",
       "      <th>brand</th>\n",
       "      <th>params</th>\n",
       "    </tr>\n",
       "  </thead>\n",
       "  <tbody>\n",
       "    <tr>\n",
       "      <th>0</th>\n",
       "      <td>0</td>\n",
       "      <td>Olesa Chugunova/Одежда/Рубашки/12333579</td>\n",
       "      <td>Женщинам</td>\n",
       "      <td>Блузки и рубашки</td>\n",
       "      <td>Качественная женская рубашка из тонкого хлопка...</td>\n",
       "      <td>Olesa Chugunova</td>\n",
       "      <td>;subj_name-Рубашки ;subj_root_name-Одежда</td>\n",
       "    </tr>\n",
       "    <tr>\n",
       "      <th>1</th>\n",
       "      <td>1</td>\n",
       "      <td>Рубашка Oversize/женская оверсайз/оверсайз белая</td>\n",
       "      <td>Женщинам</td>\n",
       "      <td>Блузки и рубашки</td>\n",
       "      <td>Женская рубашка. Рубашка из качественного мате...</td>\n",
       "      <td>Darya Selskaya</td>\n",
       "      <td>;subj_name-Рубашки ;subj_root_name-Одежда ;Вид...</td>\n",
       "    </tr>\n",
       "    <tr>\n",
       "      <th>2</th>\n",
       "      <td>2</td>\n",
       "      <td>Блузка женская одежда/Блуза/офисная</td>\n",
       "      <td>Женщинам</td>\n",
       "      <td>Блузки и рубашки</td>\n",
       "      <td>Блуза выполнена из мягкой струящейся ткани. Пр...</td>\n",
       "      <td>A-A Awesome Apparel by Ksenia Avakyan</td>\n",
       "      <td>;subj_name-Блузки ;subj_root_name-Одежда ;Длин...</td>\n",
       "    </tr>\n",
       "    <tr>\n",
       "      <th>3</th>\n",
       "      <td>3</td>\n",
       "      <td>Блузка</td>\n",
       "      <td>Женщинам</td>\n",
       "      <td>Блузки и рубашки</td>\n",
       "      <td>Блуза на каждый день с короткими свободными ру...</td>\n",
       "      <td>Pippinel</td>\n",
       "      <td>;subj_name-Блузки ;subj_root_name-Одежда ;Назн...</td>\n",
       "    </tr>\n",
       "    <tr>\n",
       "      <th>4</th>\n",
       "      <td>4</td>\n",
       "      <td>Рубашка женская оверсайз вельвет, весенняя, ос...</td>\n",
       "      <td>Женщинам</td>\n",
       "      <td>Блузки и рубашки</td>\n",
       "      <td>Рубашки вельвет это один из модных, стильных т...</td>\n",
       "      <td>Life in StyIe</td>\n",
       "      <td>;subj_name-Рубашки ;subj_root_name-Одежда ;Вид...</td>\n",
       "    </tr>\n",
       "  </tbody>\n",
       "</table>\n",
       "</div>"
      ],
      "text/plain": [
       "   Unnamed: 0                                               name  category  \\\n",
       "0           0            Olesa Chugunova/Одежда/Рубашки/12333579  Женщинам   \n",
       "1           1   Рубашка Oversize/женская оверсайз/оверсайз белая  Женщинам   \n",
       "2           2                Блузка женская одежда/Блуза/офисная  Женщинам   \n",
       "3           3                                             Блузка  Женщинам   \n",
       "4           4  Рубашка женская оверсайз вельвет, весенняя, ос...  Женщинам   \n",
       "\n",
       "        subcategory                                        description  \\\n",
       "0  Блузки и рубашки  Качественная женская рубашка из тонкого хлопка...   \n",
       "1  Блузки и рубашки  Женская рубашка. Рубашка из качественного мате...   \n",
       "2  Блузки и рубашки  Блуза выполнена из мягкой струящейся ткани. Пр...   \n",
       "3  Блузки и рубашки  Блуза на каждый день с короткими свободными ру...   \n",
       "4  Блузки и рубашки  Рубашки вельвет это один из модных, стильных т...   \n",
       "\n",
       "                                   brand  \\\n",
       "0                        Olesa Chugunova   \n",
       "1                         Darya Selskaya   \n",
       "2  A-A Awesome Apparel by Ksenia Avakyan   \n",
       "3                               Pippinel   \n",
       "4                          Life in StyIe   \n",
       "\n",
       "                                              params  \n",
       "0         ;subj_name-Рубашки ;subj_root_name-Одежда   \n",
       "1  ;subj_name-Рубашки ;subj_root_name-Одежда ;Вид...  \n",
       "2  ;subj_name-Блузки ;subj_root_name-Одежда ;Длин...  \n",
       "3  ;subj_name-Блузки ;subj_root_name-Одежда ;Назн...  \n",
       "4  ;subj_name-Рубашки ;subj_root_name-Одежда ;Вид...  "
      ]
     },
     "execution_count": 11,
     "metadata": {},
     "output_type": "execute_result"
    }
   ],
   "source": [
    "df.head()\n",
    "#TODO классификация"
   ]
  },
  {
   "cell_type": "code",
   "execution_count": 12,
   "id": "4b04c2ad-fecc-4cca-8b31-191699a441c9",
   "metadata": {
    "tags": []
   },
   "outputs": [],
   "source": [
    "categories = pd.unique(df.iloc[:, 3]).tolist()"
   ]
  },
  {
   "cell_type": "code",
   "execution_count": 13,
   "id": "2e8815a6-157b-415a-bfa5-c478adfd7334",
   "metadata": {},
   "outputs": [
    {
     "data": {
      "application/vnd.jupyter.widget-view+json": {
       "model_id": "d42e2ab43c354b3e9b1439f15b14397b",
       "version_major": 2,
       "version_minor": 0
      },
      "text/plain": [
       "  0%|          | 0/157 [00:00<?, ?it/s, Поиск наиболее близких категорий товаров]"
      ]
     },
     "metadata": {},
     "output_type": "display_data"
    },
    {
     "name": "stderr",
     "output_type": "stream",
     "text": [
      "C:\\Users\\1PC\\AppData\\Local\\Temp\\ipykernel_10440\\2883823206.py:16: UserWarning: [W008] Evaluating Doc.similarity based on empty vectors.\n",
      "  similarity_score = source_doc.similarity(category_doc)\n"
     ]
    },
    {
     "name": "stdout",
     "output_type": "stream",
     "text": [
      "[['Интернет и технологии', 0.4401719850519453], ['Запчасти для лодок и катеров', 0.4389801371958983], ['Ноутбуки и компьютеры', 0.43746715987211837], ['Кабели и зарядные устройства', 0.41760197451797515], ['Сборные конструкции', 0.37253160296842847]]\n"
     ]
    }
   ],
   "source": [
    "import spacy\n",
    "from tqdm.notebook import tqdm\n",
    "\n",
    "# nlp = spacy.load(\"en_core_web_sm\")\n",
    "# nlp = spacy.load(\"ru_core_news_sm\")\n",
    "nlp = spacy.load(\"ru_core_news_lg\")\n",
    "\n",
    "# text = \"В частности, производительность серверов на базе „Эльбрус-8С“ позволит в ближайшей перспективе приступить к практическому построению на их основе суперкомпьютера\"\n",
    "# text = \"Торговые названия – «микросхема 1891ВМ12Я» или «процессор “Эльбрус-8СВ”», также упоминается под названием Elbrus-8CV\"\n",
    "text = \"тестирование двух типов серверов (двух- и четырёхпроцессорных), использовавших восьмиядерные микропроцессоры типа «Эльбрус-8С»\"\n",
    "\n",
    "categ_scores = [[categ_string, 0.0] for categ_string in categories]\n",
    "for idx, categ_string in enumerate(tqdm(categories, postfix=\"Поиск наиболее близких категорий товаров\")):\n",
    "    category_doc = nlp(categ_string)\n",
    "    source_doc = nlp(text)\n",
    "    similarity_score = source_doc.similarity(category_doc)\n",
    "    # categ_scores.append([categ_string, similarity_score])\n",
    "    categ_scores[idx][1] += similarity_score\n",
    "    # print(\"category = \", categ_string, \",\\t score = \", similarity_score)\n",
    "categ_scores.sort(key= lambda x:x[1], reverse=True)\n",
    "print(categ_scores[:5])"
   ]
  },
  {
   "cell_type": "markdown",
   "id": "7b91d12d-4abb-421c-9ba5-e3cc09bf1145",
   "metadata": {},
   "source": [
    "# [+] Выделить организации из результатов поиска и по частоте определить называние или страницу производителя\n",
    "\n",
    "* named entity recognition (ner),\n",
    "* прямой поиск из базы названий предприятий\n",
    "* эластичный поиск\n",
    "\n",
    "https://towardsdatascience.com/named-entity-recognition-with-nltk-and-spacy-8c4a7d88e7dahttps://towardsdatascience.com/named-entity-recognition-with-nltk-and-spacy-8c4a7d88e7da\n",
    "\n"
   ]
  },
  {
   "cell_type": "markdown",
   "id": "4844cc70-66b7-4cba-86b0-1637c991774a",
   "metadata": {},
   "source": [
    "## Выделение списка организаций"
   ]
  },
  {
   "cell_type": "code",
   "execution_count": 14,
   "id": "1908df41-b4d0-4e38-9b97-c40f0c7cc68d",
   "metadata": {
    "tags": []
   },
   "outputs": [
    {
     "data": {
      "application/vnd.jupyter.widget-view+json": {
       "model_id": "10a3e794c22c437d8d3c0b14e030855f",
       "version_major": 2,
       "version_minor": 0
      },
      "text/plain": [
       "  0%|          | 0/20 [00:00<?, ?it/s, Поиск названий организаций в результатах выдачи поисковика]"
      ]
     },
     "metadata": {},
     "output_type": "display_data"
    },
    {
     "name": "stdout",
     "output_type": "stream",
     "text": [
      "['3ДНьюс', '3DNews', 'AMD', 'ALT Linux', 'Astra\\nLinux Special Edition', 'ALC', 'AMD', 'ASML', 'AMD', 'ARK II', 'Apple', 'AD - Microsoft Active Directory Rights\\nManagement Services - Microsoft Active Directory RMS', 'Acer', 'AV', 'BFM', 'BPM\\n\\n', 'C++', 'Cnews.ru', 'Creative Commons Attribution-ShareAlike', 'Creative Commons Attribution-ShareAlike', 'Creative Commons Attribution-ShareAlike', 'Creative Commons Attribution-ShareAlike', 'Creative Commons Attribution-ShareAlike', 'C++', 'CPU', 'Celsius', 'CPU', 'CNews', 'CNews.ru', 'CIO/Управление ИТ', 'Diablo', 'ECC', 'Esperanto Technologies[2', 'ECC', 'Elbrus Tech Day\\n    ', 'Elbrus Tech Day\\n    ', 'Elbrus Tech Day\\n    ', 'Endless Dungeon', 'El Capitan', 'FPU', 'FCBGA', 'Fortran-77', 'Fortran', 'FCBGA', 'FCBGA', 'Forza Horizon', 'Ferrari', 'Facebook', 'Facebook VK Twitter Youtube Telegram\\n\\n![', 'Fiber-To-The-Building - MetroEthernet -\\n', 'GTA', 'Golem.de', 'Global\\nFoundries', 'Geely', 'GPU', 'Honda', 'HPC/Big Data', 'Hostkey', 'HP', 'Intel', 'Intel', 'IT', 'Intel', 'IBM', 'IBM System i)', 'Intel', 'Intel', 'Intel', 'Intel', 'IT-компании', 'IT', 'IBM', 'Intel', 'ICL', 'IT Channel News', 'IT', 'Java', 'Java', 'KVM + QEMU + libvirt', 'L3 Com', 'Linux', 'MGA2', 'Memory-Bound', 'MediaTek', 'NVidia', 'OCS', 'OCS Distribution', 'OCS\\nDistribution', 'Qualcomm', \"Russia's Elbrus 8CB Microarchitecture\", 'Resident Evil Village', 'RISC-V.\\nТакой', 'RnD.CNews', 'REG.RU', 'RAID-массивов', 'Rus.Support', 'SIC', 'Samsung', 'Starfield', 'SPARC', 'Sitronics Group', 'Sitronics Group', 'Softline', 'TSMC', 'TSMC', 'TSMC', 'Transmeta)[3', 'TSMC', 'Technology News by ExtremeTech\\n  7', \"The\\nfirst prototypes were produced by the end of 2014 and serial production\\nstarted in 2016.[3] The Elbrus-8S is to be used in servers and\\nworkstations.[4] The processor's architecture allows support of up to 32\\nprocessors on a single server motherboard.[5][6\", 'TSMC', 'TDP', 'Top.Mail', 'UniPro', 'UniPro\\n\\n', 'UFC', 'URL', 'VK Telegram Youtube', 'Wayback Machine // RT', 'Wayback Machine // 3DNews', 'Wayback Machine // CNews', 'Wayback Machine', 'Wikimedia Foundation', 'Wayback Machine', 'Wikimedia Foundation', 'Wikimedia Foundation', 'Wayback Machine', 'Wayback Machine // 4.12.2015\\n  5', 'Wayback Machine // CNews\\n  * ПК', 'Wikimedia Foundation', 'Wikimedia Foundation', 'WhatsApp', 'Xeon', '_Elbrus PC Test _', 'ccLVDS', '| 1 канал', '| 1 канал', '| 1 канал', 'Автоматика', 'АЛУ', 'АО «МЦСТ»', 'АО «МЦСТ»', 'Автоматика', 'АРМ «Эльбрус-401»', 'АО «МЦСТ»', 'АО «МЦСТ»', 'АО «МЦСТ»', 'АО «МЦСТ»', 'АО “МЦСТ”\"', 'АО МЦСТ)', 'АК АЛРОСА', 'АО\\n«', 'АО МЦСТ', 'АО «Газпромбанк»', 'Азовсталь', 'Аэродиск', 'АНО - Детский технопарк', 'Ассоциация\\nпроизводителей электронной аппаратуры', 'Академия наук', 'АРМ ICL', 'Альт Рабочая', 'Абак-2000', 'АО «МЦСТ»', 'АО\\n«МЦСТ»](https://spbit.ru/files/cpu8_1643721423.jpg)', 'АО «МЦСТ»_\\n\\n\\n\\nПервые опытные образцы 8-ядерных процессоров «Эльбрус-8С»', 'АО\\n«МЦСТ»](https://spbit.ru/files/actual-cpu_1643721383.jpg)', 'АО «МЦСТ»_\\n\\n\\n\\nНо,', 'АО «МЦСТ»](https://spbit.ru/files/cpu16_1643721432.jpg)', 'АО «МЦСТ»_\\n\\n\\n\\nРанее', 'АК АЛРОСА', 'Базальт СПО', 'Байкал', 'Байкал', 'БП', 'Байкал Электроникс', 'Боруссии', 'Байкал', 'БИТ.Управление медицинским центром', 'Байкал', 'Викиданных\\n  ', 'ВТБ', 'ВУЗы', 'ВТБ - Внешторгбанк', 'ВДНХ - Выставка достижений народного хозяйства - Выставочный комплекс - ВВЦ', 'Всероссийского экологического\\n', 'ВТБ', 'Газете.Ru', 'Газете.Ru', 'Государственная корпорация «', 'ГИС «Мир»', 'ГК Astra Linux', 'Газпромбанк', 'ГК - Elementec', 'ГК - Российский государственный финансовый конгломерат', 'Гознак', 'Главное управление по вопросам миграции', 'Госдума', 'ГИС', 'ГИС - Геоинформационная система - GIS - Geographic information system -\\n', 'ГК «КОМПЬЮТЕРЫ И СЕТИ»', 'Домашний компьютер', 'Деловая пресса', 'Доктрине информационной безопасности и\\nСтратегии развития электронной промышленности', 'Диасофт', 'Департамента развития\\nотечественных IT-решений', 'Департамента информационных технологий (ДИТ)', 'ЕАЭС', 'ЗОСРВ «', 'ЗОСРВ «Нейтрино-Э', 'Зеленоградском заводе', 'Института электронных управляющих машин (ИНЭУМ)', 'ИНЭУМ', 'Институт электронных управляющих машин им. И.С. Брука', 'ИНЭУМ', 'ИНЭУМ', 'Ижевский радиозавод', 'Ижевский\\nрадиозавод', 'Институте точной механики и вычислительной техники\\nим. С. А. Лебедева', 'ИКТ', 'ИЦ - Инновационный центр - Фонд развития центра разработки и\\nкоммерциализации новых технологий - Сколковский инноград науки и технологий', 'ИКАО - Международная организация гражданской авиации - ICAO -\\nInternational Civil Aviation Organization', 'Интерфакс - Interfax - Иинформационное', 'ИТ-компаний', 'ИНУЭМ - Институт электронных управляющих', 'Инмед', 'Консорциума отечественных разработчиков систем\\nхранения данных', 'КБ', 'Консорциума\\nотечественных разработчиков систем хранения данных', 'Консорциум дизайн-центров и предприятий', 'КМОП', 'КТРВ - Корпорация', 'КБ -\\n', 'Кэпитал - венчурный фонд', 'КРОК', 'Ленинград', 'Ленинград', 'Ледовую дискотеку', 'МЦСТ[1', 'МЦСТ', 'МВД', 'Минпромторг', 'Минпромторгом', 'МЦСТ «Эльбрус»', 'МЦСТ\\n', 'МЦСТ', 'МЦСТ R.\\n', 'МЦСТ R1000В', 'Микрон', 'МСВС', 'МЦСТ «МГА»[1],', 'МЦСТ «Эльбрус»', 'МЦСТ', 'Московский центр', 'Московского физико-технического института', 'Московского центра SPARC-технологий', 'МЦСТ', 'МЦСТ\\n\\n![', 'Минпроторге', 'МЦСТ', 'Метрика](https://informer.yandex.ru/informer/434756/3_0_5A95E4FF_3A75C4FF_1_pageviews)', 'МЦСТ', 'МВД', 'МВД', 'МЦСТ', 'Минпромторга', 'Манчестер Сити', 'МВД', 'МЦСТ', 'Минпромторга', 'МВД', 'МТС - Мобильные ТелеСистемы', 'МегаФон - Российская телекоммуникационная компания', 'МРСК', 'Минпромторг', 'Минобороны', 'Министерство по антимонопольной политике', 'МЧС', 'Минобрнауки', 'МИД', 'Минздрав', 'Минприроды', 'Минэкономразвития', 'Министерства обороны - Государственный научно-\\nисследовательский институт химмотологии', 'Министерства обороны', 'МинПромТорг', 'МойОфис', 'МВД', 'НПЦ «ЭЛВИС»|\\n\\n  * MIPS32 \\\\+ DSP\\n    * серия', 'НИИМА «Прогресс»|\\n\\n  * RISC \\\\+ DSP\\n    * УНИКОН\\n\\n  \\n  \\nНТЦ «Модуль»|\\n\\n  * ARM \\\\+ DSP\\n    * NeuroMatrix\\n\\n  \\n  \\nМЦСТ|\\n\\n  * SPARC\\n    * МЦСТ-R100\\n    * МЦСТ-R150\\n    * МЦСТ-R500\\n    * МЦСТ-R500S\\n    * МЦСТ-R1000\\n    * МЦСТ-R2000\\n\\n  * Эльбрус (', 'НПЦ «ЭЛВИС»|\\n\\n  * MIPS32 \\\\+ DSP\\n    * серия', 'НИИМА «Прогресс»|\\n\\n  * RISC \\\\+ DSP\\n    * УНИКОН\\n\\n  \\n  \\nНТЦ «Модуль»|\\n\\n  * ARM \\\\+ DSP\\n    * NeuroMatrix\\n\\n  \\n  \\nМЦСТ|\\n\\n  * SPARC\\n    * МЦСТ-R100\\n    * МЦСТ-R150\\n    * МЦСТ-R500\\n    * МЦСТ-R500S\\n    * МЦСТ-R1000\\n    * МЦСТ-R2000\\n\\n  * Эльбрус (', 'НПЦ «ЭЛВИС»|\\n\\n  * MIPS32 \\\\+ DSP\\n    * серия', 'НИИМА «Прогресс»|\\n\\n  * RISC \\\\+ DSP\\n    * УНИКОН\\n\\n  \\n  \\nНТЦ «Модуль»|\\n\\n  * ARM \\\\+ DSP\\n    * NeuroMatrix\\n\\n  \\n  \\nМЦСТ|\\n\\n  * SPARC\\n    * МЦСТ-R100\\n    * МЦСТ-R150\\n    * МЦСТ-R500\\n    * МЦСТ-R500S\\n    * МЦСТ-R1000\\n    * МЦСТ-R2000\\n\\n  * Эльбрус (', 'НПЦ «ЭЛВИС»|\\n\\n  * MIPS32 \\\\+ DSP\\n    * серия', 'НИИМА «Прогресс»|\\n\\n  * RISC \\\\+ DSP\\n    * УНИКОН\\n\\n  \\n  \\nНТЦ «Модуль»|\\n\\n  * ARM \\\\+ DSP\\n    * NeuroMatrix\\n\\n  \\n  \\nМЦСТ|\\n\\n  * SPARC\\n    * МЦСТ-R100\\n    * МЦСТ-R150\\n    * МЦСТ-R500\\n    * МЦСТ-R500S\\n    * МЦСТ-R1000\\n    * МЦСТ-R2000\\n\\n  * Эльбрус (', 'Научный центр', 'НТЦ \"Модуль\"', 'Норси-Транс', 'НИЦ - Научно-исследовательский центр', 'НПЦ - Электронные', 'НПФ', 'НИЦЭВТ - Научно-исследовательский центр\\nэлектронной вычислительной техники - Специальное конструкторское бюро № 245 34\\n', 'НП - Russoft - Форт-Росс - АРПО - Ассоциация', 'НПЦ - Multicore - Мультикор - ELcore - Процессор', 'НИИЭТ - Научно-исследовательский институт электронной техники', 'НИИССУ - Научно-исследовательский институт систем связи и управления', 'НИЦ\\nТехнологии](https://optitelcom.ru/image/cache/catalog/rikor/platformy/111/nic-100x100.jpeg)', 'НИЦ', 'Норси-Транс', 'ОСРВ', 'Объединённую\\nприборостроительную корпорацию» (ОПК)', 'ОПК', 'Опытная партия', 'ОАО «ИНЭУМ им. И. С. Брука', 'ОСРВ', 'Октябрь', 'Описание АРМ-компьютера', 'ОПК', 'Особенности\\nнационального\\nпроцессоростроения](https://icdn.lenta.ru/images/2015/07/15/15/20150715155425268/top7_bbcd7aaf80f0acb909aeacb6001693dd.jpg)', 'Особенности национального\\nпроцессоростроения\\n\\n', 'Объединенной приборостроительной\\nкорпорации](https://icdn.lenta.ru/images/2015/05/25/19/20150525192138355/top7_ff30322fde3323fc69ea99e31c202cd8.jpg)\\n\\n«Доля импортной электроники', 'Объединенной приборостроительной корпорации', 'ООО «Лента.Ру»', 'ООН', 'ООО «АйСиЭл Техно»', 'ОТПРАВИТЬ', 'Оборудование ПО Outsourcing\\nКадры', 'Первая партия инженерных образцов процессора', 'ПК\\n«Эльбрус»', 'ПК', 'ПЭВМ «Эльбрус 401‑PC»', 'Пенсионный фонд', 'Почты России', 'Промо', 'ПАО', 'ПАО - Авиационный концерн', 'ПАО - Межрегиональная распределительная сетевая компания', 'ПАО - Алтайэнерго - Алтайэнергосбыт', 'Почты России', 'Приокском заводе цветных металлов', 'Российского правительства по\\nимпортозамещению.[9][7', 'Ростех', 'РИА Новости', 'РосСХД', 'Рэйдикс', 'РосСХД', 'Ростех', 'РАН', 'Россию[7', 'РИА Новости', 'Ростех', 'РЖД', 'РБК', 'Роскосмос', 'РЖД', 'Ростелеком', 'Россети', 'Ростелекома', 'Росатома', 'Ростеха', 'Россотрудничества', 'РИА Новости\\n\\n', 'Ростех', 'РГК - Ростехнологии - российская государственная корпорация - Rostec\\n', 'Ростелеком - Российский государственный универсальный оператор', 'Росатом - Федеральное агентство по атомной энергии', 'Росгвардия - Федеральная служба войск национальной гвардии', 'Росгвардии', 'Роскомнадзор', 'РАН - Научно-исследовательский институт системных исследований', 'Российской академии наук', 'РАН - Институт программных систем имени А.К. Айламазяна', 'Российской\\nакадемии наук', 'Российский технологический университет', 'РедОС  \\n  \\n', 'Ростелекома', 'Ростелеком', 'Росатома', 'Ростеха', 'Системы управления', 'Сбербанк', 'Сбербанком', 'Сбербанка', 'СМИ', 'СМИ', 'СМИ', 'СМИ', 'Спроектирован', 'СМИ', 'Смарт текнолоджис', 'Сбербанк', 'Сбербанка', 'СМИ', 'СУБД', 'СХД', 'Сбербанка', 'СИТРОНИКС', 'Сбера', 'СМИ', 'СК', 'СХД', 'СХД\\n', 'СВД', 'Совет Федерации', 'Совета министров', 'СКБ', 'СХД', 'СИНТО', 'Сбера', 'ТАСС', 'ТОО «Московский центр SPARC-технологий\\n(МЦСТ)', 'ТОРП - Единый', 'УниПро', 'УНПП - Уфимское научно-производственное', 'ФАС', 'ФАС\\n', 'Федеральной Службой по надзору за соблюдением законодательства в сфере\\nмассовых коммуникаций и охране культурного наследия\\n\\nПри', 'Фонд Wikimedia', 'ФГУП - Экспедиция', 'ФОИВ', 'ФСБ', 'ФАС', 'ФСО', 'ФНС', 'ФСС', 'ФГУП 7 1  \\nРосрезерв - Федеральное агентство по государственным резервам', 'ФФОМС', 'Федерального Собрания', 'ФНЦ', 'ФГУП - Российский федеральный ядерный центр - Всероссийский\\nнаучно-исследовательский институт экспериментальной физики', 'ЦП', 'ЦПУ «Орхидея»', 'ЦПУ «Орхидея»', 'ЦП', 'ЦПУ «Орхидея»', 'ЦП', 'ЦПУ «Орхидея»', 'ЦП', 'ЦБ', 'ЦИАМ имени П.И. Баранова - Центральный институт авиационного моторостроения', 'ЦБ', 'ЦОДы', 'Эльбруса', 'Эльбрусом', 'Эльбрус', 'ЭЛВИС-НеоТек»|', 'Эльбруса', 'ЭЛВИС-НеоТек»|', 'ЭЛВИС-НеоТек»|', 'Эльбрус-4.4', 'Эльбрус', 'ЭЛВИС-НеоТек»|', 'Эльбрус Интернейшнл', 'Эльбрус МЦСТ', 'Эльбрус', 'Эльбрус', 'Эльбрус', 'Эльбрус', 'Эльбрус\\n8СВ', 'Эльбруса 16С', 'Эльбрус', 'Эльбрусах', 'Эльбрусами', 'Электронная почта', 'Эхо л’ОСЕЙ', 'ЭХО л`ОСЕЙ', 'Эльбруса 16С', 'тестированию[18']\n"
     ]
    }
   ],
   "source": [
    "import spacy\n",
    "\n",
    "# nlp = spacy.load(\"en_core_web_sm\")\n",
    "# nlp = spacy.load(\"ru_core_news_sm\")\n",
    "nlp = spacy.load(\"ru_core_news_lg\")\n",
    "\n",
    "# text = \"Эльбрус-8С и Эльбрус-8СВ — 8-ядерные процессоры с архитектурой «Эльбрус» для персональных компьютеров и серверов. Разработаны российской компанией МЦСТ.\"\n",
    "# text = \"АО «НПП «Пульсар» входит в состав холдинга «Росэлектроника», управляющей компанией которого является Объединенная приборостроительная корпорация.\"\n",
    "# text = \"Apple is looking at buying U.K. startup for $1 billion\"\n",
    "# print(\"Исходный текст:\\t\", text,\"\\n\")\n",
    "doc = nlp(text)\n",
    "\n",
    "# for token in doc:\n",
    "#     # print(token)\n",
    "#     # print(token.text, token.tag_)\n",
    "#     # print(token.text, token.lemma_, token.pos_, token.tag_, token.dep_,\n",
    "#     #         token.shape_, token.is_alpha, token.is_stop)\n",
    "orgs = []\n",
    "stopwords = [\"Википедия\", \"Википедии\", \"Коммерсантъ\"]\n",
    "for url in tqdm(search_result, postfix=\"Поиск названий организаций в результатах выдачи поисковика\"):\n",
    "    try:\n",
    "        page_text=get_static_page_text2(url)\n",
    "        \n",
    "        doc = nlp(page_text)\n",
    "        orgs_for_one_site = []\n",
    "        # print(\"url = \\t\", url, \"\\n\")\n",
    "        for ent in doc.ents:\n",
    "            if (ent.label_ == \"ORG\") and (ent.text not in stopwords):\n",
    "                # print(ent.text, \"\\t\", ent.label_)\n",
    "                orgs_for_one_site.append(ent.text)\n",
    "        # print(\"\\n\")\n",
    "        orgs_for_one_site = list(dict.fromkeys(orgs_for_one_site))\n",
    "        orgs.extend(orgs_for_one_site)\n",
    "    except:\n",
    "        continue\n",
    "    \n",
    "orgs.sort(key= lambda x:x[0])\n",
    "print(orgs)\n",
    "# https://spacy.io/usage/linguistic-features#named-entities\n",
    "# print(\"Выделение категорий\")\n",
    "# for ent in doc.ents:\n",
    "#     print(ent.text, \"\\t\", ent.label_)"
   ]
  },
  {
   "cell_type": "markdown",
   "id": "41e8a603-a777-4525-9f5f-17c2476d33c3",
   "metadata": {},
   "source": [
    "## Определение наиболее часто встречаемой"
   ]
  },
  {
   "cell_type": "code",
   "execution_count": null,
   "id": "daca9727-4743-441b-ac73-9fdb0e9c177d",
   "metadata": {},
   "outputs": [],
   "source": []
  },
  {
   "cell_type": "markdown",
   "id": "3078616b-a961-4bdd-b9d2-66bfdab36002",
   "metadata": {},
   "source": [
    "## Определение совпадений в базе"
   ]
  },
  {
   "cell_type": "code",
   "execution_count": 15,
   "id": "5aa4e7a7-6c54-4514-b5e1-aa1386e2e503",
   "metadata": {},
   "outputs": [],
   "source": [
    "import pandas as pd\n",
    "\n",
    "# список категорий\n",
    "df2 = pd.read_csv(\"База_предприятия_Ксения2.csv\", lineterminator=\"\\n\")"
   ]
  },
  {
   "cell_type": "code",
   "execution_count": 16,
   "id": "f44f8769-e842-4f2c-a9d3-2944ec51633d",
   "metadata": {},
   "outputs": [],
   "source": [
    "df2.head()\n",
    "company_names_list = df2.iloc[:, 2].tolist()\n",
    "# company_names_list"
   ]
  },
  {
   "cell_type": "code",
   "execution_count": 17,
   "id": "6219a4b8-2714-4eec-91b1-6f363498b72e",
   "metadata": {},
   "outputs": [
    {
     "name": "stderr",
     "output_type": "stream",
     "text": [
      "C:\\Python39\\lib\\site-packages\\fuzzywuzzy\\fuzz.py:11: UserWarning: Using slow pure-python SequenceMatcher. Install python-Levenshtein to remove this warning\n",
      "  warnings.warn('Using slow pure-python SequenceMatcher. Install python-Levenshtein to remove this warning')\n"
     ]
    },
    {
     "data": {
      "application/vnd.jupyter.widget-view+json": {
       "model_id": "75e35f1d6dcf4fc7b9b4ea7f3e888ff8",
       "version_major": 2,
       "version_minor": 0
      },
      "text/plain": [
       "  0%|          | 0/468 [00:00<?, ?it/s, Поиск совпадений организаций в базе по Москве]"
      ]
     },
     "metadata": {},
     "output_type": "display_data"
    },
    {
     "name": "stdout",
     "output_type": "stream",
     "text": [
      "[('КУБ', 80), ('КУБ', 80), ('Oil Distribution inc', 78), ('Oil Distribution inc', 78), ('Промтех', 77), ('Промтех', 77), ('Промтех', 77), ('Промтех', 77), ('Компания №1', 76), ('БФ КОМПАНИ', 76)]\n"
     ]
    }
   ],
   "source": [
    "# https://towardsdatascience.com/fuzzywuzzy-find-similar-strings-within-one-column-in-a-pandas-data-frame-99f6c2a0c212\n",
    "\n",
    "from fuzzywuzzy import process, fuzz\n",
    "fuzzy_search_result = []\n",
    "for organization_string in tqdm(orgs, postfix=\"Поиск совпадений организаций в базе по Москве\"):\n",
    "    fuzzy_search_result.extend(process.extract(organization_string, company_names_list, scorer=fuzz.token_sort_ratio))\n",
    "fuzzy_search_result.sort(key= lambda x:x[1], reverse=True)\n",
    "print(fuzzy_search_result[:10])"
   ]
  },
  {
   "cell_type": "code",
   "execution_count": null,
   "id": "100b780b-1068-4c2a-bc5d-38c05e621d01",
   "metadata": {},
   "outputs": [],
   "source": []
  }
 ],
 "metadata": {
  "kernelspec": {
   "display_name": "Python 3 (ipykernel)",
   "language": "python",
   "name": "python3"
  },
  "language_info": {
   "codemirror_mode": {
    "name": "ipython",
    "version": 3
   },
   "file_extension": ".py",
   "mimetype": "text/x-python",
   "name": "python",
   "nbconvert_exporter": "python",
   "pygments_lexer": "ipython3",
   "version": "3.9.12"
  },
  "toc-autonumbering": true
 },
 "nbformat": 4,
 "nbformat_minor": 5
}
